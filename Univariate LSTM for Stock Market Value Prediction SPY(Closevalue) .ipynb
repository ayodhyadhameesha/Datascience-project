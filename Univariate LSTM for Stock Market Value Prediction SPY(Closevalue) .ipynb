{
 "cells": [
  {
   "cell_type": "markdown",
   "metadata": {},
   "source": [
    "### This part of the code we prepare the dataset for training"
   ]
  },
  {
   "cell_type": "markdown",
   "metadata": {},
   "source": [
    "# Below part of the code \n",
    "## We load the data and using pandas library loads the close values of the excel sheet."
   ]
  },
  {
   "cell_type": "code",
   "execution_count": 1,
   "metadata": {},
   "outputs": [
    {
     "name": "stdout",
     "output_type": "stream",
     "text": [
      "[[43.9375]\n",
      " [44.25]\n",
      " [44.34375]\n",
      " [44.8125]\n",
      " [45.0]]\n",
      "(7558, 1)\n"
     ]
    }
   ],
   "source": [
    "import pandas as pd\n",
    "dataset=pd.read_csv('SPY.csv').values\n",
    "close_value=dataset[:,4]\n",
    "close_value=close_value.reshape(-1,1)\n",
    "print(close_value[:5])\n",
    "print(close_value.shape)"
   ]
  },
  {
   "cell_type": "markdown",
   "metadata": {},
   "source": [
    "# Below part of the code\n",
    "## We plot loaded data to get a clear understanding how open values changed with the date."
   ]
  },
  {
   "cell_type": "code",
   "execution_count": 2,
   "metadata": {},
   "outputs": [
    {
     "data": {
      "text/plain": [
       "<Figure size 640x480 with 1 Axes>"
      ]
     },
     "metadata": {},
     "output_type": "display_data"
    }
   ],
   "source": [
    "from matplotlib import pyplot as plt\n",
    "\n",
    "plt.plot(close_value)\n",
    "plt.xlabel('Date')\n",
    "plt.xlabel('Close Value/$')\n",
    "plt.show()"
   ]
  },
  {
   "cell_type": "markdown",
   "metadata": {},
   "source": [
    "## Below part of the code\n",
    "### We convert the values to a value between 0-1 to make the processing easier"
   ]
  },
  {
   "cell_type": "code",
   "execution_count": 3,
   "metadata": {},
   "outputs": [
    {
     "name": "stdout",
     "output_type": "stream",
     "text": [
      "[[43.9375]\n",
      " [44.25]\n",
      " [44.34375]\n",
      " [44.8125]\n",
      " [45.0]]\n",
      "[[0.00122322]\n",
      " [0.00194276]\n",
      " [0.00215863]\n",
      " [0.00323794]\n",
      " [0.00366967]]\n"
     ]
    }
   ],
   "source": [
    "from sklearn.preprocessing import MinMaxScaler\n",
    "scaler=MinMaxScaler(feature_range=(0,1))\n",
    "scaled_close_value=scaler.fit_transform(close_value)\n",
    "print(close_value[:5])\n",
    "print(scaled_close_value[:5])"
   ]
  },
  {
   "cell_type": "code",
   "execution_count": 4,
   "metadata": {},
   "outputs": [
    {
     "name": "stdout",
     "output_type": "stream",
     "text": [
      "[[43.9375]\n",
      " [44.25]\n",
      " [44.34375]\n",
      " [44.8125]\n",
      " [45.0]]\n",
      "[[0.00122322]\n",
      " [0.00194276]\n",
      " [0.00215863]\n",
      " [0.00323794]\n",
      " [0.00366967]]\n"
     ]
    }
   ],
   "source": [
    "from sklearn.preprocessing import MinMaxScaler\n",
    "scaler=MinMaxScaler(feature_range=(0,1))\n",
    "scaled_close_value=scaler.fit_transform(close_value)\n",
    "print(close_value[:5])\n",
    "print(scaled_close_value[:5])"
   ]
  },
  {
   "cell_type": "markdown",
   "metadata": {},
   "source": [
    "## Below part of the code\n",
    "### We divide the values into data and target here we give 50 days as data 51 st date as the target, which means during this process we train the neural network to analyze 50 days and tells it to predict the 51st day.You can change it as you wish if you want"
   ]
  },
  {
   "cell_type": "code",
   "execution_count": 5,
   "metadata": {},
   "outputs": [],
   "source": [
    "data=[]\n",
    "target=[]\n",
    "\n",
    "for i in range(50,close_value.shape[0]):\n",
    "    data.append(scaled_close_value[i-50:i])\n",
    "    target.append(scaled_close_value[i])\n",
    "    "
   ]
  },
  {
   "cell_type": "markdown",
   "metadata": {},
   "source": [
    "# Below part of the code\n",
    "## we convert the appended data and target to numpy array for further training "
   ]
  },
  {
   "cell_type": "code",
   "execution_count": 6,
   "metadata": {},
   "outputs": [
    {
     "name": "stdout",
     "output_type": "stream",
     "text": [
      "(7508, 50, 1)\n",
      "(7508, 1)\n"
     ]
    }
   ],
   "source": [
    "import numpy as np\n",
    "data_np=np.array(data)\n",
    "target_np=np.array(target)\n",
    "\n",
    "print(data_np.shape)\n",
    "print(target_np.shape)"
   ]
  },
  {
   "cell_type": "markdown",
   "metadata": {},
   "source": [
    "## Below part of the code\n",
    "### we save the numpy arrays as data_SPY_close_value & target_SPY_close_value"
   ]
  },
  {
   "cell_type": "code",
   "execution_count": 7,
   "metadata": {},
   "outputs": [],
   "source": [
    "np.save('data_SPY_close_value',data)\n",
    "np.save('target_SPY_close_value',target)"
   ]
  },
  {
   "cell_type": "markdown",
   "metadata": {},
   "source": [
    "### In this part of the code we train the nueral network using processed data"
   ]
  },
  {
   "cell_type": "markdown",
   "metadata": {},
   "source": [
    "# Below part of the code \n",
    "### We load the saved numpy arrays"
   ]
  },
  {
   "cell_type": "code",
   "execution_count": 8,
   "metadata": {},
   "outputs": [],
   "source": [
    "import numpy as np\n",
    "data=np.load('data_SPY_close_value.npy')\n",
    "target=np.load('target_SPY_close_value.npy')"
   ]
  },
  {
   "cell_type": "markdown",
   "metadata": {},
   "source": [
    "## Below part of the code\n",
    "### We divide the data into two parts mainly as train_data,train_target,test_data,test_target, Usually we give 80% for training and 20% for testing it can be changed accordingly."
   ]
  },
  {
   "cell_type": "code",
   "execution_count": 9,
   "metadata": {},
   "outputs": [],
   "source": [
    "train_data=data[:5000]\n",
    "train_target=target[:5000]\n",
    "\n",
    "test_data=data[5000:]\n",
    "test_target=target[5000:]"
   ]
  },
  {
   "cell_type": "markdown",
   "metadata": {},
   "source": [
    "## Below part of the code\n",
    "### We plot the train target and test target graphs"
   ]
  },
  {
   "cell_type": "code",
   "execution_count": 11,
   "metadata": {},
   "outputs": [
    {
     "data": {
      "image/png": "[encoded data removed]",
      "text/plain": [
       "<Figure size 432x288 with 1 Axes>"
      ]
     },
     "metadata": {
      "needs_background": "light"
     },
     "output_type": "display_data"
    }
   ],
   "source": [
    "from matplotlib import pyplot as plt\n",
    "\n",
    "#test_x_range is an array of values between 5000-7045\n",
    "test_x_range=np.arange(5000,7508,1)\n",
    "\n",
    "plt.plot(train_target,'r',label='train')\n",
    "plt.plot(test_x_range,test_target,'b',label='test')\n",
    "plt.xlabel('Date')\n",
    "plt.ylabel('Close Value/$')\n",
    "plt.show()\n"
   ]
  },
  {
   "cell_type": "markdown",
   "metadata": {},
   "source": [
    "## Below part of the code\n",
    "### Actually this is the core of the code which is the neural network architecture this can be subjected to changes to get the mximum accuaracy"
   ]
  },
  {
   "cell_type": "code",
   "execution_count": 12,
   "metadata": {},
   "outputs": [
    {
     "name": "stderr",
     "output_type": "stream",
     "text": [
      "Using TensorFlow backend.\n"
     ]
    }
   ],
   "source": [
    "from keras.models import Sequential\n",
    "from keras.layers import LSTM,Dense,Dropout\n",
    "\n",
    "model=Sequential()\n",
    "\n",
    "model.add(LSTM(units=96,return_sequences=True,input_shape=(data.shape[1:])))\n",
    "model.add(Dropout(0.5))\n",
    "\n",
    "model.add(LSTM(units=96,return_sequences=True))\n",
    "model.add(Dropout(0.5))\n",
    "\n",
    "model.add(LSTM(units=96,return_sequences=True))\n",
    "model.add(Dropout(0.5))\n",
    "\n",
    "model.add(LSTM(units=96,return_sequences=True))\n",
    "model.add(Dropout(0.5))\n",
    "\n",
    "model.add(LSTM(units=96,return_sequences=False))\n",
    "model.add(Dropout(0.5))\n",
    "\n",
    "model.add(Dense(units=1,activation='linear'))\n",
    "\n",
    "model.compile(loss='mse',optimizer='adam')#,metrics=['accuracy']"
   ]
  },
  {
   "cell_type": "markdown",
   "metadata": {},
   "source": [
    "## Below part of the code\n",
    "### We train the neural network"
   ]
  },
  {
   "cell_type": "code",
   "execution_count": 19,
   "metadata": {},
   "outputs": [
    {
     "name": "stdout",
     "output_type": "stream",
     "text": [
      "Train on 4500 samples, validate on 500 samples\n",
      "Epoch 1/10\n",
      "4500/4500 [==============================] - 20s 4ms/step - loss: 1.5953e-04 - val_loss: 4.3652e-05\n",
      "Epoch 2/10\n",
      "4500/4500 [==============================] - 22s 5ms/step - loss: 1.4609e-04 - val_loss: 5.2957e-05\n",
      "Epoch 3/10\n",
      "4500/4500 [==============================] - 22s 5ms/step - loss: 1.4295e-04 - val_loss: 4.5760e-05\n",
      "Epoch 4/10\n",
      "4500/4500 [==============================] - 21s 5ms/step - loss: 1.5734e-04 - val_loss: 8.6969e-05\n",
      "Epoch 5/10\n",
      "4500/4500 [==============================] - 23s 5ms/step - loss: 1.7354e-04 - val_loss: 7.2365e-05\n",
      "Epoch 6/10\n",
      "4500/4500 [==============================] - 22s 5ms/step - loss: 1.4062e-04 - val_loss: 3.8065e-05\n",
      "Epoch 7/10\n",
      "4500/4500 [==============================] - 23s 5ms/step - loss: 1.5364e-04 - val_loss: 5.2123e-05\n",
      "Epoch 8/10\n",
      "4500/4500 [==============================] - 23s 5ms/step - loss: 1.2665e-04 - val_loss: 1.0852e-04\n",
      "Epoch 9/10\n",
      "4500/4500 [==============================] - 23s 5ms/step - loss: 1.2496e-04 - val_loss: 3.5942e-05\n",
      "Epoch 10/10\n",
      "4500/4500 [==============================] - 22s 5ms/step - loss: 1.3180e-04 - val_loss: 3.4686e-05\n"
     ]
    }
   ],
   "source": [
    "history=model.fit(train_data,train_target,epochs=10,validation_split=0.1)"
   ]
  },
  {
   "cell_type": "markdown",
   "metadata": {},
   "source": [
    "# The value loss and training loss is done"
   ]
  },
  {
   "cell_type": "code",
   "execution_count": 20,
   "metadata": {},
   "outputs": [
    {
     "data": {
      "image/png": "[encoded data removed]",
      "text/plain": [
       "<Figure size 432x288 with 1 Axes>"
      ]
     },
     "metadata": {
      "needs_background": "light"
     },
     "output_type": "display_data"
    }
   ],
   "source": [
    "plt.plot(history.history['loss'],'r',label='training_loss')\n",
    "plt.plot(history.history['val_loss'],'g',label='val loss')\n",
    "plt.xlabel('# epoch')\n",
    "plt.ylabel('loss')\n",
    "plt.legend()\n",
    "plt.show()"
   ]
  },
  {
   "cell_type": "markdown",
   "metadata": {},
   "source": [
    "# The R2 score is calculated of the model"
   ]
  },
  {
   "cell_type": "code",
   "execution_count": 21,
   "metadata": {},
   "outputs": [
    {
     "name": "stdout",
     "output_type": "stream",
     "text": [
      "r2 score: 88.19749065690482\n"
     ]
    }
   ],
   "source": [
    "result=model.predict(test_data)\n",
    "\n",
    "from sklearn.metrics import r2_score\n",
    "\n",
    "r2=r2_score(test_target,result)*100\n",
    "print('r2 score:',r2)"
   ]
  },
  {
   "cell_type": "code",
   "execution_count": 22,
   "metadata": {},
   "outputs": [
    {
     "data": {
      "image/png": "[encoded data removed]",
      "text/plain": [
       "<Figure size 432x288 with 1 Axes>"
      ]
     },
     "metadata": {
      "needs_background": "light"
     },
     "output_type": "display_data"
    }
   ],
   "source": [
    "\n",
    "#test_x_range is an array of values between 5000-7508\n",
    "test_x_range=np.arange(5000,7508,1)\n",
    "\n",
    "#plt.plot(train_target,'r',label='train')\n",
    "plt.plot(test_x_range,test_target,'b',label='test')\n",
    "plt.plot(test_x_range,result,'g',label='predicted')\n",
    "\n",
    "plt.xlabel('Date')\n",
    "plt.ylabel('Closevalue Value/$')\n",
    "plt.legend()\n",
    "plt.show()"
   ]
  },
  {
   "cell_type": "markdown",
   "metadata": {},
   "source": [
    "# The trained model is saved"
   ]
  },
  {
   "cell_type": "code",
   "execution_count": 15,
   "metadata": {},
   "outputs": [],
   "source": [
    "model.save('SPY_Close.h5')"
   ]
  },
  {
   "cell_type": "code",
   "execution_count": null,
   "metadata": {},
   "outputs": [],
   "source": []
  }
 ],
 "metadata": {
  "kernelspec": {
   "display_name": "Python 3",
   "language": "python",
   "name": "python3"
  },
  "language_info": {
   "codemirror_mode": {
    "name": "ipython",
    "version": 3
   },
   "file_extension": ".py",
   "mimetype": "text/x-python",
   "name": "python",
   "nbconvert_exporter": "python",
   "pygments_lexer": "ipython3",
   "version": "3.7.4"
  }
 },
 "nbformat": 4,
 "nbformat_minor": 4
}
